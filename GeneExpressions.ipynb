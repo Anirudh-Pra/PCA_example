{
  "nbformat": 4,
  "nbformat_minor": 0,
  "metadata": {
    "colab": {
      "name": "GeneExpressions.ipynb",
      "provenance": []
    },
    "kernelspec": {
      "name": "python3",
      "display_name": "Python 3"
    }
  },
  "cells": [
    {
      "cell_type": "code",
      "metadata": {
        "id": "X0asxu7wQdaO"
      },
      "source": [
        "import pandas as pd\n",
        "import numpy as np  \n",
        "import random as rd"
      ],
      "execution_count": 2,
      "outputs": []
    },
    {
      "cell_type": "code",
      "metadata": {
        "id": "SKtj2oixQmLn"
      },
      "source": [
        "from sklearn.decomposition import PCA\n",
        "from sklearn import preprocessing\n",
        "import matplotlib.pyplot as plt"
      ],
      "execution_count": 4,
      "outputs": []
    },
    {
      "cell_type": "code",
      "metadata": {
        "id": "nAvHr7BcQw2f"
      },
      "source": [
        "#create genes(samples) and its dimensionality expressed through wildtype and knockout\n",
        "genes = ['gene' + str(i) for i in range(1,101)]\n",
        "wildtype = ['wt' + str(i) for i in range(1,6)]\n",
        "knockout = ['ko' + str(i) for i in range(1,6)]"
      ],
      "execution_count": 6,
      "outputs": []
    },
    {
      "cell_type": "code",
      "metadata": {
        "id": "FFR1Sv0OR50V"
      },
      "source": [
        "#create dataframe containing the columns which are unpacked from the wildtypes and knockout and indexed by genes(the samples)\n",
        "data = pd.DataFrame(columns=[*wildtype,*knockout], index = genes)"
      ],
      "execution_count": 7,
      "outputs": []
    },
    {
      "cell_type": "code",
      "metadata": {
        "id": "TPFULV4oWxR_"
      },
      "source": [
        "#generate data from a poisson distribution and assign them to the gene exptressions\n",
        "for gene in data.index:\n",
        "  #for expressions wt1 to wt5 in gene(row value)\n",
        "  data.loc[gene,\"wt1\":\"wt5\"]= np.random.poisson(lam= rd.randrange(10,1000), size = 5)\n",
        "  #for expressions ko1 to ko5 in gene\n",
        "  data.loc[gene,'ko1':'ko5']= np.random.poisson(lam=rd.randrange(10,10000), size = 5)"
      ],
      "execution_count": 15,
      "outputs": []
    },
    {
      "cell_type": "code",
      "metadata": {
        "colab": {
          "base_uri": "https://localhost:8080/",
          "height": 206
        },
        "id": "OI3iTbdFZNGC",
        "outputId": "197e5105-868d-453e-8356-7667c929011c"
      },
      "source": [
        "data.head()"
      ],
      "execution_count": 16,
      "outputs": [
        {
          "output_type": "execute_result",
          "data": {
            "text/html": [
              "<div>\n",
              "<style scoped>\n",
              "    .dataframe tbody tr th:only-of-type {\n",
              "        vertical-align: middle;\n",
              "    }\n",
              "\n",
              "    .dataframe tbody tr th {\n",
              "        vertical-align: top;\n",
              "    }\n",
              "\n",
              "    .dataframe thead th {\n",
              "        text-align: right;\n",
              "    }\n",
              "</style>\n",
              "<table border=\"1\" class=\"dataframe\">\n",
              "  <thead>\n",
              "    <tr style=\"text-align: right;\">\n",
              "      <th></th>\n",
              "      <th>wt1</th>\n",
              "      <th>wt2</th>\n",
              "      <th>wt3</th>\n",
              "      <th>wt4</th>\n",
              "      <th>wt5</th>\n",
              "      <th>ko1</th>\n",
              "      <th>ko2</th>\n",
              "      <th>ko3</th>\n",
              "      <th>ko4</th>\n",
              "      <th>ko5</th>\n",
              "    </tr>\n",
              "  </thead>\n",
              "  <tbody>\n",
              "    <tr>\n",
              "      <th>gene1</th>\n",
              "      <td>486</td>\n",
              "      <td>483</td>\n",
              "      <td>453</td>\n",
              "      <td>475</td>\n",
              "      <td>482</td>\n",
              "      <td>5081</td>\n",
              "      <td>5078</td>\n",
              "      <td>4922</td>\n",
              "      <td>5149</td>\n",
              "      <td>4926</td>\n",
              "    </tr>\n",
              "    <tr>\n",
              "      <th>gene2</th>\n",
              "      <td>822</td>\n",
              "      <td>789</td>\n",
              "      <td>782</td>\n",
              "      <td>748</td>\n",
              "      <td>820</td>\n",
              "      <td>4176</td>\n",
              "      <td>4474</td>\n",
              "      <td>4227</td>\n",
              "      <td>4398</td>\n",
              "      <td>4377</td>\n",
              "    </tr>\n",
              "    <tr>\n",
              "      <th>gene3</th>\n",
              "      <td>377</td>\n",
              "      <td>342</td>\n",
              "      <td>347</td>\n",
              "      <td>342</td>\n",
              "      <td>370</td>\n",
              "      <td>804</td>\n",
              "      <td>781</td>\n",
              "      <td>705</td>\n",
              "      <td>810</td>\n",
              "      <td>779</td>\n",
              "    </tr>\n",
              "    <tr>\n",
              "      <th>gene4</th>\n",
              "      <td>717</td>\n",
              "      <td>665</td>\n",
              "      <td>688</td>\n",
              "      <td>680</td>\n",
              "      <td>741</td>\n",
              "      <td>4143</td>\n",
              "      <td>4177</td>\n",
              "      <td>4096</td>\n",
              "      <td>4076</td>\n",
              "      <td>4321</td>\n",
              "    </tr>\n",
              "    <tr>\n",
              "      <th>gene5</th>\n",
              "      <td>244</td>\n",
              "      <td>248</td>\n",
              "      <td>253</td>\n",
              "      <td>253</td>\n",
              "      <td>277</td>\n",
              "      <td>9856</td>\n",
              "      <td>10026</td>\n",
              "      <td>9824</td>\n",
              "      <td>9891</td>\n",
              "      <td>9907</td>\n",
              "    </tr>\n",
              "  </tbody>\n",
              "</table>\n",
              "</div>"
            ],
            "text/plain": [
              "       wt1  wt2  wt3  wt4  wt5   ko1    ko2   ko3   ko4   ko5\n",
              "gene1  486  483  453  475  482  5081   5078  4922  5149  4926\n",
              "gene2  822  789  782  748  820  4176   4474  4227  4398  4377\n",
              "gene3  377  342  347  342  370   804    781   705   810   779\n",
              "gene4  717  665  688  680  741  4143   4177  4096  4076  4321\n",
              "gene5  244  248  253  253  277  9856  10026  9824  9891  9907"
            ]
          },
          "metadata": {
            "tags": []
          },
          "execution_count": 16
        }
      ]
    },
    {
      "cell_type": "code",
      "metadata": {
        "colab": {
          "base_uri": "https://localhost:8080/"
        },
        "id": "B00FJwtSZkU5",
        "outputId": "ab1bcf32-4229-45df-b033-e01f1340014d"
      },
      "source": [
        "data.shape"
      ],
      "execution_count": 17,
      "outputs": [
        {
          "output_type": "execute_result",
          "data": {
            "text/plain": [
              "(100, 10)"
            ]
          },
          "metadata": {
            "tags": []
          },
          "execution_count": 17
        }
      ]
    },
    {
      "cell_type": "code",
      "metadata": {
        "id": "PEXbYT1eZtAx"
      },
      "source": [
        "scaled_data = preprocessing.scale(data.T)"
      ],
      "execution_count": 18,
      "outputs": []
    },
    {
      "cell_type": "code",
      "metadata": {
        "id": "AXpHOzxWaT8E"
      },
      "source": [
        "#create PCA object\n",
        "pca = PCA()\n",
        "#Calculate loading scores and variation each principal component accounts for\n",
        "pca.fit(scaled_data)\n",
        "#Generate coordinates for a PCA graph based on the loading scores and the scaled data\n",
        "pca_data = pca.transform(scaled_data)"
      ],
      "execution_count": 20,
      "outputs": []
    },
    {
      "cell_type": "code",
      "metadata": {
        "colab": {
          "base_uri": "https://localhost:8080/"
        },
        "id": "ZdE_3rQG3OQG",
        "outputId": "cdd039f9-3674-40c0-9c18-0fc19059431b"
      },
      "source": [
        "pca_data.shape"
      ],
      "execution_count": 34,
      "outputs": [
        {
          "output_type": "execute_result",
          "data": {
            "text/plain": [
              "(10, 10)"
            ]
          },
          "metadata": {
            "tags": []
          },
          "execution_count": 34
        }
      ]
    },
    {
      "cell_type": "code",
      "metadata": {
        "id": "b7-GLAedcaxy"
      },
      "source": [
        "##Create Scree Plot\n",
        "\n",
        "#First thing to do is calculate the % variation that each PC accounts for\n",
        "per_var = np.round(pca.explained_variance_ratio_*100, decimals = 1)\n",
        "\n",
        "\n",
        "#Create labels for the scree plot\n",
        "labels = ['PC' + str(x) for x in range(1,len(per_var) + 1)]"
      ],
      "execution_count": 26,
      "outputs": []
    },
    {
      "cell_type": "code",
      "metadata": {
        "colab": {
          "base_uri": "https://localhost:8080/",
          "height": 295
        },
        "id": "2Ljf8_I1e2JD",
        "outputId": "ae071745-bd40-4a5e-b1b2-5d918be4308c"
      },
      "source": [
        "#create bar-plot\n",
        "\n",
        "plt.bar(x=range(1,len(per_var)+1), height=per_var, tick_label=labels)\n",
        "plt.ylabel('Percentage of Explained Variance')\n",
        "plt.xlabel('Principal Component')\n",
        "plt.title('Scree Plot')\n",
        "plt.show()"
      ],
      "execution_count": 27,
      "outputs": [
        {
          "output_type": "display_data",
          "data": {
            "image/png": "[encoded data removed]",
            "text/plain": [
              "<Figure size 432x288 with 1 Axes>"
            ]
          },
          "metadata": {
            "tags": [],
            "needs_background": "light"
          }
        }
      ]
    },
    {
      "cell_type": "code",
      "metadata": {
        "colab": {
          "base_uri": "https://localhost:8080/",
          "height": 295
        },
        "id": "_Biw4Jhqgj91",
        "outputId": "05f3231a-fb2c-4a23-b5db-a167293042a3"
      },
      "source": [
        "##Create PCA plot\n",
        "#To draw PCA plot where coordinate(pca.transform(scaled.data)) into a matrix where samples are rows and cols are PCA labels\n",
        "\n",
        "pca_df = pd.DataFrame(pca_data, index = [*wildtype,*knockout], columns=labels)\n",
        "\n",
        "#draw the scatter plot\n",
        "plt.scatter(pca_df.PC1,pca_df.PC2)\n",
        "plt.title('My PCA Graph')\n",
        "plt.xlabel('PC1 - {0}%'.format(per_var[0]))\n",
        "plt.ylabel('PC2 - {0}%'.format(per_var[1]))\n",
        "\n",
        "#loop adds sample names to the graph\n",
        "\n",
        "for sample in pca_df.index:\n",
        "  plt.annotate(sample,(pca_df.PC1.loc[sample], pca_df.PC2.loc[sample]))  \n",
        "\n",
        "#show the graph\n",
        "plt.show()"
      ],
      "execution_count": 30,
      "outputs": [
        {
          "output_type": "display_data",
          "data": {
            "image/png": "[encoded data removed]",
            "text/plain": [
              "<Figure size 432x288 with 1 Axes>"
            ]
          },
          "metadata": {
            "tags": [],
            "needs_background": "light"
          }
        }
      ]
    },
    {
      "cell_type": "code",
      "metadata": {
        "colab": {
          "base_uri": "https://localhost:8080/"
        },
        "id": "moegkE83kJYL",
        "outputId": "5f866503-dfdc-430a-9180-b855a89877a3"
      },
      "source": [
        "#look at loading scores of PC1 to see which genes had the largest influence separating the clusters across the x-axis\n",
        "\n",
        "loading_scores = pd.Series(pca.components_[0],index=genes)\n",
        "sorted_loading_scores = loading_scores.abs().sort_values(ascending=False)\n",
        "\n",
        "top_10_genes = sorted_loading_scores[0:10].index.values \n",
        "\n",
        "print(loading_scores[top_10_genes])"
      ],
      "execution_count": 31,
      "outputs": [
        {
          "output_type": "stream",
          "text": [
            "gene15   -0.101088\n",
            "gene77   -0.101087\n",
            "gene95   -0.101087\n",
            "gene37   -0.101086\n",
            "gene23   -0.101086\n",
            "gene74   -0.101086\n",
            "gene30   -0.101085\n",
            "gene66   -0.101085\n",
            "gene82   -0.101084\n",
            "gene78   -0.101084\n",
            "dtype: float64\n"
          ],
          "name": "stdout"
        }
      ]
    }
  ]
}