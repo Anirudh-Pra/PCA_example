{
  "nbformat": 4,
  "nbformat_minor": 0,
  "metadata": {
    "colab": {
      "name": "GeneExpressions.ipynb",
      "provenance": [],
      "authorship_tag": "ABX9TyMBNAWdxYhXmbBP16RfDj6x",
      "include_colab_link": true
    },
    "kernelspec": {
      "name": "python3",
      "display_name": "Python 3"
    }
  },
  "cells": [
    {
      "cell_type": "markdown",
      "metadata": {
        "id": "view-in-github",
        "colab_type": "text"
      },
      "source": [
        "<a href=\"https://colab.research.google.com/github/Anirudh-Pra/PCA_example/blob/main/GeneExpressions.ipynb\" target=\"_parent\"><img src=\"https://colab.research.google.com/assets/colab-badge.svg\" alt=\"Open In Colab\"/></a>"
      ]
    },
    {
      "cell_type": "code",
      "metadata": {
        "id": "X0asxu7wQdaO"
      },
      "source": [
        "#importing necessary packages\n",
        "import pandas as pd\n",
        "import numpy as np  \n",
        "import random as rd"
      ],
      "execution_count": null,
      "outputs": []
    },
    {
      "cell_type": "code",
      "metadata": {
        "id": "SKtj2oixQmLn"
      },
      "source": [
        "#importing necessary packages\n",
        "from sklearn.decomposition import PCA\n",
        "from sklearn import preprocessing\n",
        "import matplotlib.pyplot as plt"
      ],
      "execution_count": null,
      "outputs": []
    },
    {
      "cell_type": "code",
      "metadata": {
        "colab": {
          "base_uri": "https://localhost:8080/"
        },
        "id": "Yq8GSxxgr9jB",
        "outputId": "808694d4-5fa3-47cf-f00e-dbb176a9ccaf"
      },
      "source": [
        "#Package specification\n",
        "%watermark -p pandas,numpy,random,sklearn,matplotlib"
      ],
      "execution_count": null,
      "outputs": [
        {
          "output_type": "stream",
          "text": [
            "pandas 1.1.5\n",
            "numpy 1.19.5\n",
            "random unknown\n",
            "sklearn 0.0\n",
            "matplotlib 3.2.2\n"
          ],
          "name": "stdout"
        }
      ]
    },
    {
      "cell_type": "code",
      "metadata": {
        "id": "nAvHr7BcQw2f"
      },
      "source": [
        "#create genes(samples) and its dimensionality expressed through wildtype and knockout\n",
        "genes = ['gene' + str(i) for i in range(1,101)]\n",
        "wildtype = ['wt' + str(i) for i in range(1,6)]\n",
        "knockout = ['ko' + str(i) for i in range(1,6)]"
      ],
      "execution_count": null,
      "outputs": []
    },
    {
      "cell_type": "code",
      "metadata": {
        "id": "FFR1Sv0OR50V"
      },
      "source": [
        "#create dataframe containing the columns which are unpacked from the wildtypes and knockout and indexed by genes(the samples)\n",
        "data = pd.DataFrame(columns=[*wildtype,*knockout], index = genes)"
      ],
      "execution_count": null,
      "outputs": []
    },
    {
      "cell_type": "code",
      "metadata": {
        "id": "TPFULV4oWxR_"
      },
      "source": [
        "#generate data from a poisson distribution and assign them to the gene exptressions\n",
        "for gene in data.index:\n",
        "  #for expressions wt1 to wt5 in gene(row value)\n",
        "  data.loc[gene,\"wt1\":\"wt5\"]= np.random.poisson(lam= rd.randrange(10,1000), size = 5)\n",
        "  #for expressions ko1 to ko5 in gene\n",
        "  data.loc[gene,'ko1':'ko5']= np.random.poisson(lam=rd.randrange(10,10000), size = 5)"
      ],
      "execution_count": null,
      "outputs": []
    },
    {
      "cell_type": "code",
      "metadata": {
        "colab": {
          "base_uri": "https://localhost:8080/",
          "height": 206
        },
        "id": "OI3iTbdFZNGC",
        "outputId": "a7ef7ed2-c431-4d4f-81c6-f6f28fb3dd38"
      },
      "source": [
        "data.head()"
      ],
      "execution_count": null,
      "outputs": [
        {
          "output_type": "execute_result",
          "data": {
            "text/html": [
              "<div>\n",
              "<style scoped>\n",
              "    .dataframe tbody tr th:only-of-type {\n",
              "        vertical-align: middle;\n",
              "    }\n",
              "\n",
              "    .dataframe tbody tr th {\n",
              "        vertical-align: top;\n",
              "    }\n",
              "\n",
              "    .dataframe thead th {\n",
              "        text-align: right;\n",
              "    }\n",
              "</style>\n",
              "<table border=\"1\" class=\"dataframe\">\n",
              "  <thead>\n",
              "    <tr style=\"text-align: right;\">\n",
              "      <th></th>\n",
              "      <th>wt1</th>\n",
              "      <th>wt2</th>\n",
              "      <th>wt3</th>\n",
              "      <th>wt4</th>\n",
              "      <th>wt5</th>\n",
              "      <th>ko1</th>\n",
              "      <th>ko2</th>\n",
              "      <th>ko3</th>\n",
              "      <th>ko4</th>\n",
              "      <th>ko5</th>\n",
              "    </tr>\n",
              "  </thead>\n",
              "  <tbody>\n",
              "    <tr>\n",
              "      <th>gene1</th>\n",
              "      <td>271</td>\n",
              "      <td>252</td>\n",
              "      <td>278</td>\n",
              "      <td>272</td>\n",
              "      <td>282</td>\n",
              "      <td>6073</td>\n",
              "      <td>6061</td>\n",
              "      <td>6089</td>\n",
              "      <td>6165</td>\n",
              "      <td>6054</td>\n",
              "    </tr>\n",
              "    <tr>\n",
              "      <th>gene2</th>\n",
              "      <td>51</td>\n",
              "      <td>65</td>\n",
              "      <td>63</td>\n",
              "      <td>51</td>\n",
              "      <td>62</td>\n",
              "      <td>9645</td>\n",
              "      <td>9602</td>\n",
              "      <td>9446</td>\n",
              "      <td>9510</td>\n",
              "      <td>9383</td>\n",
              "    </tr>\n",
              "    <tr>\n",
              "      <th>gene3</th>\n",
              "      <td>36</td>\n",
              "      <td>37</td>\n",
              "      <td>34</td>\n",
              "      <td>28</td>\n",
              "      <td>33</td>\n",
              "      <td>3138</td>\n",
              "      <td>3336</td>\n",
              "      <td>3254</td>\n",
              "      <td>3191</td>\n",
              "      <td>3236</td>\n",
              "    </tr>\n",
              "    <tr>\n",
              "      <th>gene4</th>\n",
              "      <td>854</td>\n",
              "      <td>888</td>\n",
              "      <td>848</td>\n",
              "      <td>870</td>\n",
              "      <td>845</td>\n",
              "      <td>6410</td>\n",
              "      <td>6414</td>\n",
              "      <td>6438</td>\n",
              "      <td>6296</td>\n",
              "      <td>6306</td>\n",
              "    </tr>\n",
              "    <tr>\n",
              "      <th>gene5</th>\n",
              "      <td>972</td>\n",
              "      <td>1028</td>\n",
              "      <td>935</td>\n",
              "      <td>951</td>\n",
              "      <td>1032</td>\n",
              "      <td>4294</td>\n",
              "      <td>4220</td>\n",
              "      <td>4162</td>\n",
              "      <td>4303</td>\n",
              "      <td>4310</td>\n",
              "    </tr>\n",
              "  </tbody>\n",
              "</table>\n",
              "</div>"
            ],
            "text/plain": [
              "       wt1   wt2  wt3  wt4   wt5   ko1   ko2   ko3   ko4   ko5\n",
              "gene1  271   252  278  272   282  6073  6061  6089  6165  6054\n",
              "gene2   51    65   63   51    62  9645  9602  9446  9510  9383\n",
              "gene3   36    37   34   28    33  3138  3336  3254  3191  3236\n",
              "gene4  854   888  848  870   845  6410  6414  6438  6296  6306\n",
              "gene5  972  1028  935  951  1032  4294  4220  4162  4303  4310"
            ]
          },
          "metadata": {
            "tags": []
          },
          "execution_count": 14
        }
      ]
    },
    {
      "cell_type": "code",
      "metadata": {
        "colab": {
          "base_uri": "https://localhost:8080/"
        },
        "id": "B00FJwtSZkU5",
        "outputId": "4df3fdfa-8da5-42ef-a543-fbf3a5d6e617"
      },
      "source": [
        "data.shape"
      ],
      "execution_count": null,
      "outputs": [
        {
          "output_type": "execute_result",
          "data": {
            "text/plain": [
              "(100, 10)"
            ]
          },
          "metadata": {
            "tags": []
          },
          "execution_count": 15
        }
      ]
    },
    {
      "cell_type": "code",
      "metadata": {
        "id": "PEXbYT1eZtAx"
      },
      "source": [
        "scaled_data = preprocessing.scale(data.T)"
      ],
      "execution_count": null,
      "outputs": []
    },
    {
      "cell_type": "code",
      "metadata": {
        "id": "AXpHOzxWaT8E"
      },
      "source": [
        "#create PCA object\n",
        "pca = PCA()\n",
        "#Calculate loading scores and variation each principal component accounts for\n",
        "pca.fit(scaled_data)\n",
        "#Generate coordinates for a PCA graph based on the loading scores and the scaled data\n",
        "pca_data = pca.transform(scaled_data)"
      ],
      "execution_count": null,
      "outputs": []
    },
    {
      "cell_type": "code",
      "metadata": {
        "colab": {
          "base_uri": "https://localhost:8080/"
        },
        "id": "ZdE_3rQG3OQG",
        "outputId": "6f9b2e69-4250-40e7-fa6a-e22ba82c39d5"
      },
      "source": [
        "pca_data.shape"
      ],
      "execution_count": null,
      "outputs": [
        {
          "output_type": "execute_result",
          "data": {
            "text/plain": [
              "(10, 10)"
            ]
          },
          "metadata": {
            "tags": []
          },
          "execution_count": 18
        }
      ]
    },
    {
      "cell_type": "code",
      "metadata": {
        "id": "b7-GLAedcaxy"
      },
      "source": [
        "##Create Scree Plot\n",
        "\n",
        "#First thing to do is calculate the % variation that each PC accounts for\n",
        "per_var = np.round(pca.explained_variance_ratio_*100, decimals = 1)\n",
        "\n",
        "\n",
        "#Create labels for the scree plot\n",
        "labels = ['PC' + str(x) for x in range(1,len(per_var) + 1)]"
      ],
      "execution_count": null,
      "outputs": []
    },
    {
      "cell_type": "code",
      "metadata": {
        "colab": {
          "base_uri": "https://localhost:8080/",
          "height": 295
        },
        "id": "2Ljf8_I1e2JD",
        "outputId": "8c7fc308-a622-4b6d-f3de-a417f751a110"
      },
      "source": [
        "#create bar-plot; looks like PC1 explains the most percentage variance \n",
        "\n",
        "plt.bar(x=range(1,len(per_var)+1), height=per_var, tick_label=labels)\n",
        "plt.ylabel('Percentage of Explained Variance')\n",
        "plt.xlabel('Principal Component')\n",
        "plt.title('Scree Plot')\n",
        "plt.show()"
      ],
      "execution_count": null,
      "outputs": [
        {
          "output_type": "display_data",
          "data": {
            "image/png": "[encoded data removed]",
            "text/plain": [
              "<Figure size 432x288 with 1 Axes>"
            ]
          },
          "metadata": {
            "tags": [],
            "needs_background": "light"
          }
        }
      ]
    },
    {
      "cell_type": "code",
      "metadata": {
        "colab": {
          "base_uri": "https://localhost:8080/",
          "height": 295
        },
        "id": "_Biw4Jhqgj91",
        "outputId": "49641032-6b30-4418-c2bc-0d5229818fba"
      },
      "source": [
        "##Create PCA plot\n",
        "#To draw PCA plot where coordinate(pca.transform(scaled.data)) into a matrix where samples are rows and cols are PCA labels\n",
        "\n",
        "pca_df = pd.DataFrame(pca_data, index = [*wildtype,*knockout], columns=labels)\n",
        "\n",
        "#draw the scatter plot\n",
        "plt.scatter(pca_df.PC1,pca_df.PC2)\n",
        "plt.title('My PCA Graph')\n",
        "plt.xlabel('PC1 - {0}%'.format(per_var[0]))\n",
        "plt.ylabel('PC2 - {0}%'.format(per_var[1]))\n",
        "\n",
        "#loop adds sample names to the graph\n",
        "\n",
        "for sample in pca_df.index:\n",
        "  plt.annotate(sample,(pca_df.PC1.loc[sample], pca_df.PC2.loc[sample]))  \n",
        "\n",
        "#show the graph\n",
        "plt.show()"
      ],
      "execution_count": null,
      "outputs": [
        {
          "output_type": "display_data",
          "data": {
            "image/png": "[encoded data removed]",
            "text/plain": [
              "<Figure size 432x288 with 1 Axes>"
            ]
          },
          "metadata": {
            "tags": [],
            "needs_background": "light"
          }
        }
      ]
    },
    {
      "cell_type": "code",
      "metadata": {
        "colab": {
          "base_uri": "https://localhost:8080/"
        },
        "id": "moegkE83kJYL",
        "outputId": "910b7883-1704-45da-e06a-6cd4647421f8"
      },
      "source": [
        "#look at loading scores of PC1 to see which genes had the largest influence separating the clusters across the x-axis\n",
        "\n",
        "loading_scores = pd.Series(pca.components_[0],index=genes)\n",
        "sorted_loading_scores = loading_scores.abs().sort_values(ascending=False)\n",
        "\n",
        "top_10_genes = sorted_loading_scores[0:10].index.values \n",
        "\n",
        "print(loading_scores[top_10_genes])"
      ],
      "execution_count": null,
      "outputs": [
        {
          "output_type": "stream",
          "text": [
            "gene19    0.100400\n",
            "gene55    0.100400\n",
            "gene43    0.100400\n",
            "gene27    0.100399\n",
            "gene50    0.100398\n",
            "gene45    0.100397\n",
            "gene51    0.100397\n",
            "gene82    0.100397\n",
            "gene22    0.100397\n",
            "gene6     0.100397\n",
            "dtype: float64\n"
          ],
          "name": "stdout"
        }
      ]
    }
  ]
}